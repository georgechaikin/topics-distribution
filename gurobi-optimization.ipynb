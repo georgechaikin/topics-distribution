{
 "cells": [
  {
   "cell_type": "code",
   "execution_count": 1,
   "metadata": {},
   "outputs": [],
   "source": [
    "import gurobipy as gp\n",
    "from gurobipy import GRB\n",
    "import numpy as np\n",
    "import scipy.sparse as sp"
   ]
  },
  {
   "cell_type": "code",
   "execution_count": 20,
   "metadata": {},
   "outputs": [
    {
     "data": {
      "text/plain": [
       "(5, 3, 2, 1)"
      ]
     },
     "execution_count": 20,
     "metadata": {},
     "output_type": "execute_result"
    }
   ],
   "source": [
    "n, m = 5, 3\n",
    "k, l =2, 1\n",
    "\n",
    "# A = np.random.random((n, (l+1-k)*n))\n",
    "A = np.random.random((n, m))\n",
    "n, m = A.shape\n",
    "n, m, k, l"
   ]
  },
  {
   "cell_type": "code",
   "execution_count": 22,
   "metadata": {},
   "outputs": [
    {
     "data": {
      "text/plain": [
       "array([[-1., -1., -1.,  0.,  0.,  0.,  0.,  0.,  0.,  0.,  0.,  0.,  0.,\n",
       "         0.,  0.],\n",
       "       [ 0.,  0.,  0., -1., -1., -1.,  0.,  0.,  0.,  0.,  0.,  0.,  0.,\n",
       "         0.,  0.],\n",
       "       [ 0.,  0.,  0.,  0.,  0.,  0., -1., -1., -1.,  0.,  0.,  0.,  0.,\n",
       "         0.,  0.],\n",
       "       [ 0.,  0.,  0.,  0.,  0.,  0.,  0.,  0.,  0., -1., -1., -1.,  0.,\n",
       "         0.,  0.],\n",
       "       [ 0.,  0.,  0.,  0.,  0.,  0.,  0.,  0.,  0.,  0.,  0.,  0., -1.,\n",
       "        -1., -1.],\n",
       "       [ 1.,  0.,  0.,  1.,  0.,  0.,  1.,  0.,  0.,  1.,  0.,  0.,  1.,\n",
       "         0.,  0.],\n",
       "       [ 0.,  1.,  0.,  0.,  1.,  0.,  0.,  1.,  0.,  0.,  1.,  0.,  0.,\n",
       "         1.,  0.],\n",
       "       [ 0.,  0.,  1.,  0.,  0.,  1.,  0.,  0.,  1.,  0.,  0.,  1.,  0.,\n",
       "         0.,  1.]])"
      ]
     },
     "execution_count": 22,
     "metadata": {},
     "output_type": "execute_result"
    }
   ],
   "source": [
    "# A_ub_1\n",
    "# A_ub_1 = np.zeros((n, n*m))\n",
    "rows = np.repeat(np.arange(n), m)\n",
    "columns = np.arange(n*m)\n",
    "# A_ub_1[rows, columns] = 1\n",
    "# A_ub_2\n",
    "A_ub_2 = np.zeros((n, n*m))\n",
    "A_ub_2[rows, columns] = -1\n",
    "# A_ub_3\n",
    "# A_ub_3 = -1. * np.tile(np.eye(m), n)\n",
    "A_ub_3 = 1. * np.tile(np.eye(m), n)\n",
    "# A_ub\n",
    "# A_ub = np.vstack([A_ub_1, A_ub_2, A_ub_3])\n",
    "A_ub = np.vstack([A_ub_2, A_ub_3])\n",
    "A_ub"
   ]
  },
  {
   "cell_type": "code",
   "execution_count": 23,
   "metadata": {},
   "outputs": [
    {
     "data": {
      "text/plain": [
       "(5, 3)"
      ]
     },
     "execution_count": 23,
     "metadata": {},
     "output_type": "execute_result"
    }
   ],
   "source": [
    "n,m"
   ]
  },
  {
   "cell_type": "code",
   "execution_count": 24,
   "metadata": {},
   "outputs": [],
   "source": [
    "# b_ub = np.hstack([np.repeat(k, n), np.repeat(-1, n), np.repeat(-l, m)])\n",
    "b_ub = np.hstack([np.repeat(-l, n), np.repeat(k, m)])"
   ]
  },
  {
   "cell_type": "code",
   "execution_count": 25,
   "metadata": {},
   "outputs": [
    {
     "name": "stdout",
     "output_type": "stream",
     "text": [
      "Gurobi Optimizer version 10.0.1 build v10.0.1rc0 (win64)\n",
      "\n",
      "CPU model: AMD Ryzen 7 2700 Eight-Core Processor, instruction set [SSE2|AVX|AVX2]\n",
      "Thread count: 8 physical cores, 16 logical processors, using up to 16 threads\n",
      "\n",
      "Optimize a model with 8 rows, 15 columns and 30 nonzeros\n",
      "Model fingerprint: 0xb2bc81a9\n",
      "Variable types: 0 continuous, 15 integer (15 binary)\n",
      "Coefficient statistics:\n",
      "  Matrix range     [1e+00, 1e+00]\n",
      "  Objective range  [1e-01, 9e-01]\n",
      "  Bounds range     [1e+00, 1e+00]\n",
      "  RHS range        [1e+00, 2e+00]\n",
      "Found heuristic solution: objective 2.5251883\n",
      "Presolve time: 0.00s\n",
      "Presolved: 8 rows, 15 columns, 30 nonzeros\n",
      "Variable types: 0 continuous, 15 integer (15 binary)\n",
      "Found heuristic solution: objective 2.0090168\n",
      "\n",
      "Root relaxation: objective 1.131735e+00, 6 iterations, 0.00 seconds (0.00 work units)\n",
      "\n",
      "    Nodes    |    Current Node    |     Objective Bounds      |     Work\n",
      " Expl Unexpl |  Obj  Depth IntInf | Incumbent    BestBd   Gap | It/Node Time\n",
      "\n",
      "*    0     0               0       1.1317351    1.13174  0.00%     -    0s\n",
      "\n",
      "Explored 1 nodes (6 simplex iterations) in 0.03 seconds (0.00 work units)\n",
      "Thread count was 16 (of 16 available processors)\n",
      "\n",
      "Solution count 3: 1.13174 2.00902 2.52519 \n",
      "\n",
      "Optimal solution found (tolerance 1.00e-04)\n",
      "Best objective 1.131735124867e+00, best bound 1.131735124867e+00, gap 0.0000%\n"
     ]
    }
   ],
   "source": [
    "try:\n",
    "    model = gp.Model('gp')\n",
    "\n",
    "    x = model.addMVar(shape = n*m, vtype = GRB.BINARY, name = 'x')\n",
    "    # x = model.addMVar(shape = n*m, vtype = GRB.INTEGER, name = 'x')\n",
    "    # x = model.addMVar(shape = n*m, name = 'x')\n",
    "\n",
    "    obj = A.flatten()\n",
    "    model.setObjective(obj @ x, GRB.MINIMIZE)\n",
    "    A_ub_sp = sp.csr_matrix(A_ub)\n",
    "    rhs = b_ub\n",
    "    model.addConstr(A_ub_sp @ x <= rhs, name = \"c\")\n",
    "    # model.addConstr(x>=0, name = \"positive\")\n",
    "\n",
    "    model.optimize()\n",
    "    # print(x.X)\n",
    "except gp.GurobiError as e:\n",
    "    print('Error code ' + str(e.errno) + \": \" + str(e))\n",
    "\n",
    "except AttributeError:\n",
    "    print('Encountered an attribute error')"
   ]
  },
  {
   "cell_type": "code",
   "execution_count": 26,
   "metadata": {},
   "outputs": [],
   "source": [
    "X = x.X.reshape([n,m])"
   ]
  },
  {
   "cell_type": "code",
   "execution_count": 28,
   "metadata": {},
   "outputs": [
    {
     "data": {
      "text/plain": [
       "(2, 1)"
      ]
     },
     "execution_count": 28,
     "metadata": {},
     "output_type": "execute_result"
    }
   ],
   "source": [
    "k, l"
   ]
  },
  {
   "cell_type": "code",
   "execution_count": 30,
   "metadata": {},
   "outputs": [
    {
     "data": {
      "text/plain": [
       "array([[0.42073612, 0.46886166, 0.14353377],\n",
       "       [0.25955207, 0.15723849, 0.58574513],\n",
       "       [0.52387789, 0.18823528, 0.76303762],\n",
       "       [0.13723227, 0.85356951, 0.73019178],\n",
       "       [0.50549532, 0.45417486, 0.66637247]])"
      ]
     },
     "execution_count": 30,
     "metadata": {},
     "output_type": "execute_result"
    }
   ],
   "source": [
    "A"
   ]
  },
  {
   "cell_type": "code",
   "execution_count": 29,
   "metadata": {},
   "outputs": [
    {
     "data": {
      "text/plain": [
       "array([[-0., -0.,  1.],\n",
       "       [-0.,  1., -0.],\n",
       "       [-0.,  1., -0.],\n",
       "       [ 1., -0., -0.],\n",
       "       [ 1.,  0., -0.]])"
      ]
     },
     "execution_count": 29,
     "metadata": {},
     "output_type": "execute_result"
    }
   ],
   "source": [
    "X"
   ]
  },
  {
   "cell_type": "code",
   "execution_count": 121,
   "metadata": {},
   "outputs": [
    {
     "data": {
      "text/plain": [
       "(array([1., 1., 1., 1., 1., 1., 1.]), array([2., 5.]))"
      ]
     },
     "execution_count": 121,
     "metadata": {},
     "output_type": "execute_result"
    }
   ],
   "source": [
    "X.sum(1), X.sum(0)"
   ]
  }
 ],
 "metadata": {
  "kernelspec": {
   "display_name": "gurobi_env",
   "language": "python",
   "name": "python3"
  },
  "language_info": {
   "codemirror_mode": {
    "name": "ipython",
    "version": 3
   },
   "file_extension": ".py",
   "mimetype": "text/x-python",
   "name": "python",
   "nbconvert_exporter": "python",
   "pygments_lexer": "ipython3",
   "version": "3.7.7"
  },
  "orig_nbformat": 4
 },
 "nbformat": 4,
 "nbformat_minor": 2
}
